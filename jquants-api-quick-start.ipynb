{
  "cells": [
    {
      "cell_type": "markdown",
      "metadata": {
        "id": "pdlborFttnt2"
      },
      "source": [
        "# J-Quants API Quick Startガイド"
      ]
    },
    {
      "cell_type": "code",
      "execution_count": null,
      "metadata": {
        "cellView": "form",
        "id": "CpwnfBFRGVfW"
      },
      "outputs": [],
      "source": [
        "#@title 初期設定＆各種import\n",
        "#@markdown ←にある▶ボタンを押すとGoogle Colabでコードを実行することができます。\n",
        "\n",
        "#@markdown まずはこちらのコードを実行し、J-Quants APIを利用するため必要なパッケージをimportしましょう。\n",
        "\n",
        "import json\n",
        "import sys\n",
        "import requests\n",
        "\n",
        "from IPython.display import display\n",
        "import pandas as pd\n",
        "\n",
        "pd.set_option(\"display.max_columns\", None)\n",
        "\n",
        "API_URL = \"https://api.jquants.com\""
      ]
    },
    {
      "cell_type": "markdown",
      "metadata": {
        "id": "aMdAC0xHGONW"
      },
      "source": [
        "## Step1：API利用開始までの流れ　※初回のみ実施"
      ]
    },
    {
      "cell_type": "markdown",
      "metadata": {
        "id": "Hp4c7WfZwlRf"
      },
      "source": [
        "J-Quants APIのご利用を検討いただき、ありがとうございます。\n",
        "\n",
        "**J-Quants APIをご利用いただくには、以下の2つを事前に行っていただく必要がございます。**\n",
        " 1. [J-Quants Webサイト](https://jpx-jquants.com/)への登録\n",
        " 2. J-Quants API利用のためのプラン（Free, Light, Standard, Premium）選択\n",
        "\n",
        "まだ、ご登録もしくはプラン選択がお済みでない方は、まず上記の2項目を行っていただきますようお願いいたします。  \n",
        "より具体的な手順は[こちら](https://jpx.gitbook.io/j-quants-ja/outline/getstarted)をご参照ください。"
      ]
    },
    {
      "cell_type": "markdown",
      "metadata": {
        "id": "m6YTkXxL1QKp"
      },
      "source": [
        "##Step2及びStep3：リフレッシュトークン取得 & idToken取得\n",
        "リフレッシュトークンを取得するには2つの方法があります。\n",
        "1. J-Quants Webサイトへログインし、リフレッシュトークンを取得するボタンからリフレッシュトークンを取得する方法\n",
        "2. リフレッシュトークン取得APIを利用し、リフレッシュトークンを取得する方法\n",
        "\n",
        "以下に記載のどちらかお好みの方法でリフレッシュトークン及びidTokenを取得してください。"
      ]
    },
    {
      "cell_type": "code",
      "execution_count": null,
      "metadata": {
        "cellView": "form",
        "id": "2x9O_8mOtyRU"
      },
      "outputs": [],
      "source": [
        "#@title **1.J-Quants Webサイトから取得したリフレッシュトークンを貼り付ける場合**\n",
        "#@markdown J-Quants Webサイトにて取得したリフレッシュトークンを以下の「ここにtextを挿入」の箇所に貼り付けてください。\n",
        "\n",
        "refreshtoken = \"\"#@param {type: \"string\"}\n",
        "\n",
        "# idToken取得\n",
        "res = requests.post(f\"{API_URL}/v1/token/auth_refresh?refreshtoken={refreshtoken}\")\n",
        "if res.status_code == 200:\n",
        "    id_token = res.json()['idToken']\n",
        "    headers = {'Authorization': 'Bearer {}'.format(id_token)}\n",
        "    display(\"idTokenの取得に成功しました。\")\n",
        "else:\n",
        "    display(res.json()[\"message\"])\n",
        "\n",
        "\n",
        "#@markdown 上記コードを実行し、**「idTokenの取得に成功しました。」**と表示されれば、J-Quants APIを利用するための準備は完了です。  \n",
        "\n",
        "#@markdown なお、 「Your refresh token may be incorrect or expired.」等のエラーが出力されている場合は、上記で貼り付けたリフレッシュトークンが誤っているか、期限が切れている可能性がございます。\n",
        "\n",
        "#@markdown その場合はお手数ですが、再度リフレッシュトークンをJ-Quants Webサイトから取得いただき、再度実行してください。\n"
      ]
    },
    {
      "cell_type": "markdown",
      "metadata": {
        "id": "68yJymTq1YiM"
      },
      "source": [
        "###**2. J-Quants Webサイトに登録したID及びPWを使用し、RefreshToken及びidTokenをAPIを利用して取得する場合**"
      ]
    },
    {
      "cell_type": "code",
      "execution_count": null,
      "metadata": {
        "cellView": "form",
        "id": "D0Efte3k1LF2"
      },
      "outputs": [],
      "source": [
        "#@title Google Driveのマウント\n",
        "\n",
        "#@markdown 登録いただいたIDやPWを直接本Notebookに記載するのはセキュリティ上適切ではない可能性があるため、<br>\n",
        "#@markdown Google Driveに設定ファイルを作成し、当該設定ファイルにIDやPWを記載することをおすすめします。\n",
        "\n",
        "#@markdown 本コードを実行し、まずはGoogle Driveをマウントします。\n",
        "\n",
        "\n",
        "from google.colab import drive\n",
        "\n",
        "try:\n",
        "    drive.mount('/content/drive')\n",
        "except:\n",
        "    print(\"Google Driveのマウントに失敗しました。\")\n",
        "else:\n",
        "    print(\"Google Driveのマウントに成功しました。\")"
      ]
    },
    {
      "cell_type": "markdown",
      "metadata": {
        "id": "pPpM3sok2vE7"
      },
      "source": [
        "#### 設定ファイルの作成（初回のみ）\n",
        "- 以下の画像のように 「drive→MyDrive→drive_ws→secret→jquants-api.toml」といった階層で設定ファイルを作成します。\n",
        "\n",
        "![image.png](data:image/png;base64,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)\n",
        "\n",
        "- 作成したtomlファイルに以下のサンプルのとおりID及びパスワードを記載します。  \n",
        "(なお、\\*の箇所はご登録いただいたID及びPWに置き換えてください。)\n",
        "\n",
        "```\n",
        "[jquants-api-client]\n",
        "mailaddress = \"*****@***.***\"\n",
        "password = \"**************\"\n",
        "```"
      ]
    },
    {
      "cell_type": "code",
      "execution_count": null,
      "metadata": {
        "cellView": "form",
        "id": "GnXNKKWUtnA3"
      },
      "outputs": [],
      "source": [
        "#@title 作成した設定ファイルを読み込み、リフレッシュトークン及びidTokenを取得\n",
        "#@markdown 正しく設定ファイルが作成されていれば、本コードを実行することで、idTokenを取得することができます。\n",
        "#@markdown 「APIを使用する準備が完了しました。」と出力されれば、されれば、J-Quants APIをコールすることができるようになります！\n",
        "\n",
        "if sys.version_info >= (3, 11):\n",
        "    import tomllib\n",
        "else:\n",
        "    import tomli as tomllib\n",
        "    \n",
        "config_path = (\"/content/drive/MyDrive/drive_ws/secret/jquants-api.toml\")\n",
        "\n",
        "with open(config_path, mode=\"rb\") as f:\n",
        "    ret = tomllib.load(f)[\"jquants-api-client\"]\n",
        "\n",
        "USER_DATA = {k: v for k, v in ret.items()}\n",
        "\n",
        "# refresh token取得\n",
        "try:\n",
        "  res = requests.post(f\"{API_URL}/v1/token/auth_user\", data=json.dumps(USER_DATA))\n",
        "  refresh_token = res.json()['refreshToken']\n",
        "except:\n",
        "  print(\"RefreshTokenの取得に失敗しました。\")\n",
        "else:\n",
        "  # id token取得\n",
        "  try:\n",
        "    res = requests.post(f\"{API_URL}/v1/token/auth_refresh?refreshtoken={refresh_token}\")\n",
        "    id_token = res.json()['idToken']\n",
        "  except:\n",
        "    print(\"idTokenの取得に失敗しました。\")\n",
        "  else:\n",
        "    headers = {'Authorization': 'Bearer {}'.format(id_token)}\n",
        "    print(\"API使用の準備が完了しました。\")"
      ]
    },
    {
      "cell_type": "markdown",
      "metadata": {
        "id": "-Eurw3gqIAi3"
      },
      "source": [
        "## Step4：取得したIDトークンを用いて各APIをご利用ください。"
      ]
    },
    {
      "cell_type": "markdown",
      "metadata": {
        "id": "IYgHOfBGh_w8"
      },
      "source": [
        "### Freeプラン以上のプランで利用できるAPI\n",
        "- 上場銘柄一覧（/listed/info）\n",
        "- 株価四本値*（/prices/daily_quotes）\n",
        "- 財務情報/fins/statements)\n",
        "- 決算発表予定日（/fins/announcement）\n",
        "\n",
        "\\* プレミアムプランのユーザのみ、前後場の四本値及び取引高・取引代金の情報が取得可能\n"
      ]
    },
    {
      "cell_type": "code",
      "execution_count": null,
      "metadata": {
        "cellView": "form",
        "id": "epk4nH_4q611"
      },
      "outputs": [],
      "source": [
        "#@title 上場銘柄一覧（/listed/info）\n",
        "\n",
        "#@markdown - 過去時点での銘柄情報、当日の銘柄情報および翌営業日時点の銘柄情報が取得可能です。\n",
        "#@markdown - データの取得では、銘柄コード（code）または日付（date）の指定が可能です。\n",
        "\n",
        "#@markdown （データ更新時刻）\n",
        "#@markdown - 毎営業日の24:00頃\n",
        "\n",
        "\n",
        "code = \"\"#@param {type:\"string\"}\n",
        "date = \"\"#@param {type:\"string\"}\n",
        "query = \"\"\n",
        "if code != \"\":\n",
        "  query += f'code={code}'\n",
        "if date != \"\":\n",
        "  if code !=\"\":\n",
        "    query += \"&\"\n",
        "  query += f'date={date}'\n",
        "if query != \"\":\n",
        "  query = \"?\"+query\n",
        "res = requests.get(f\"{API_URL}/v1/listed/info{query}\", headers=headers)\n",
        "if res.status_code == 200:\n",
        "  data = res.json()[\"info\"]\n",
        "  df = pd.DataFrame(data)\n",
        "  display(df)\n",
        "else:\n",
        "  print(res.json())"
      ]
    },
    {
      "cell_type": "code",
      "execution_count": null,
      "metadata": {
        "cellView": "form",
        "id": "Oo1qg0OOrC6L"
      },
      "outputs": [],
      "source": [
        "#@title 株価四本値（/prices/daily_quotes）\n",
        "\n",
        "#@markdown - 株価は分割・併合を考慮した調整済み株価（小数点第２位四捨五入）と調整前の株価を取得することができます。\n",
        "#@markdown - データの取得では、銘柄コード（code）または日付（date）の指定が必須となります。\n",
        "\n",
        "#@markdown （データ更新時刻）\n",
        "#@markdown - 毎営業日の17:00頃\n",
        "\n",
        "#@markdown - Premiumプランの方には、日通しに加え、前場(Morning)及び後場(Afternoon)の四本値及び取引高（調整前・後両方）・取引代金が取得可能です。\n",
        "\n",
        "\n",
        "code = \"\"#@param {type:\"string\"}\n",
        "date = \"\"#@param {type:\"string\"}\n",
        "from_ = \"\" #@param {type:\"string\"}\n",
        "to = \"\" #@param {type:\"string\"}\n",
        "query = \"\"\n",
        "if code != \"\":\n",
        "  query += f'code={code}'\n",
        "if date != \"\":\n",
        "  if code !=\"\":\n",
        "    query += \"&\"\n",
        "  query += f'date={date}'\n",
        "if from_ != \"\":\n",
        "  if query !=\"\":\n",
        "    query += \"&\"\n",
        "  query += f'from={from_}'\n",
        "if to != \"\":\n",
        "  if query !=\"\":\n",
        "    query += \"&\"\n",
        "  query += f'to={to}'\n",
        "if query != \"\":\n",
        "  query = \"?\"+query\n",
        "res = requests.get(f\"{API_URL}/v1/prices/daily_quotes{query}\", headers=headers)\n",
        "\n",
        "if res.status_code == 200:\n",
        "  data = res.json()[\"daily_quotes\"]\n",
        "  df = pd.DataFrame(data)\n",
        "  display(df)\n",
        "else:\n",
        "  print(res.json())"
      ]
    },
    {
      "cell_type": "code",
      "execution_count": null,
      "metadata": {
        "cellView": "form",
        "id": "HqcpHjObrPqA"
      },
      "outputs": [],
      "source": [
        "#@title 財務情報（/fins/statements）\n",
        "\n",
        "#@markdown - 財務情報APIでは、上場企業がTDnetへ提出する決算短信Summary等を基に作成された、四半期毎の財務情報を取得することができます。\n",
        "#@markdown - データの取得では、銘柄コード（code）または開示日（date）の指定が必須です。\n",
        "\n",
        "#@markdown （データ更新時刻）\n",
        "#@markdown - 速報18:00頃、確報24:30頃\n",
        "\n",
        "\n",
        "code = \"\"#@param {type:\"string\"}\n",
        "date = \"\"#@param {type:\"string\"}\n",
        "query = \"\"\n",
        "if code != \"\":\n",
        "  query += f'code={code}'\n",
        "if date != \"\":\n",
        "  if code !=\"\":\n",
        "    query += \"&\"\n",
        "  query += f'date={date}'\n",
        "if query != \"\":\n",
        "  query = \"?\"+query\n",
        "res = requests.get(f\"{API_URL}/v1/fins/statements{query}\", headers=headers)\n",
        "\n",
        "if res.status_code == 200:\n",
        "  data = res.json()[\"statements\"]\n",
        "  df = pd.DataFrame(data)\n",
        "  display(df)\n",
        "else:\n",
        "  print(res.json())"
      ]
    },
    {
      "cell_type": "code",
      "execution_count": null,
      "metadata": {
        "cellView": "form",
        "id": "ZSjHBYg6rWTK"
      },
      "outputs": [],
      "source": [
        "#@title 決算発表予定日（/fins/announcemnet）\n",
        "\n",
        "#@markdown （データ更新時刻）\n",
        "#@markdown - 不定期（更新がある日は）19:00頃\n",
        "\n",
        "#@markdown - [当該ページ](https://www.jpx.co.jp/listing/event-schedules/financial-announcement/index.html)で、3月期・９月期決算会社分に更新があった場合のみ19時ごろに更新されます。\n",
        "\n",
        "\n",
        "res = requests.get(f\"{API_URL}/v1/fins/announcement\", headers=headers)\n",
        "\n",
        "if res.status_code == 200:\n",
        "  data = res.json()[\"announcement\"]\n",
        "  df = pd.DataFrame(data)\n",
        "  display(df)\n",
        "else:\n",
        "  print(res.json())"
      ]
    },
    {
      "cell_type": "markdown",
      "metadata": {
        "id": "QtsUDLLnnsaA"
      },
      "source": [
        "### Lightプラン以上のプランで利用できるAPI\n",
        "- 投資部門別情報（/markets/trades_spec）\n",
        "- TOPIX四本値（/indices/topix）"
      ]
    },
    {
      "cell_type": "code",
      "execution_count": null,
      "metadata": {
        "cellView": "form",
        "id": "3JSzR-JDrtgq"
      },
      "outputs": [],
      "source": [
        "#@title 投資部門別（株式）データ（/markets/trades_spec）\n",
        "\n",
        "#@markdown - 投資部門別売買状況（金額）のデータを取得することができます。\n",
        "#@markdown - 投資部門別売買状況は、個人・外国人・金融機関など、投資家ごとの売買動向をまとめた情報です。\n",
        "#@markdown - 基本的には[こちら](https://www.jpx.co.jp/markets/statistics-equities/investor-type/index.html)のページで掲載しているものと同等のものになります。\n",
        "#@markdown - データの取得では、セクション（section）または日付（from/to）の指定が可能です。\n",
        "\n",
        "#@markdown （データ更新時刻）\n",
        "#@markdown - 原則、毎週第４営業日18:00頃\n",
        "\n",
        "\n",
        "section = \"\"#@param [\"TSE1st\", \"TSE2nd\", \"TSEMothers\", \"TSEJASDAQ\", \"TSEPrime\", \"TSEStandard\", \"TSEGrowth\", \"TokyoNagoya\"] {allow-input: true}\n",
        "from_ = \"\" #@param {type:\"string\"}\n",
        "to = \"\" #@param {type:\"string\"}\n",
        "query = \"\"\n",
        "if section != \"\":\n",
        "  query += f'section={section}'\n",
        "if from_ != \"\":\n",
        "  if query !=\"\":\n",
        "    query += \"&\"\n",
        "  query += f'from={from_}'\n",
        "if to != \"\":\n",
        "  if query !=\"\":\n",
        "    query += \"&\"\n",
        "  query += f'to={to}'\n",
        "if query != \"\":\n",
        "  query = \"?\"+query\n",
        "res = requests.get(f\"{API_URL}/v1/markets/trades_spec{query}\", headers=headers)\n",
        "\n",
        "if res.status_code == 200:\n",
        "  data = res.json()[\"trades_spec\"]\n",
        "  df = pd.DataFrame(data)\n",
        "  display(df)\n",
        "else:\n",
        "  print(res.json())\n"
      ]
    },
    {
      "cell_type": "code",
      "execution_count": null,
      "metadata": {
        "cellView": "form",
        "id": "ssdsMVgprnVr"
      },
      "outputs": [],
      "source": [
        "#@title TOPIX四本値（/indices/topix）\n",
        "\n",
        "#@markdown - 日次のTOPIX指数の四本値について取得することができます。\n",
        "#@markdown - 日付（from/to）の指定が可能です\n",
        "\n",
        "#@markdown （データ更新時刻）\n",
        "#@markdown - 毎営業日の21:00頃\n",
        "\n",
        "\n",
        "date_from = \"\"#@param {type:\"string\"}\n",
        "date_to = \"\"#@param {type:\"string\"}\n",
        "query = \"\"\n",
        "if date_from != \"\":\n",
        "  query += f'from={date_from}'\n",
        "if date_to != \"\":\n",
        "  if date_from !=\"\":\n",
        "    query += \"&\"\n",
        "  query += f'to={date_to}'\n",
        "if query != \"\":\n",
        "  query = \"?\"+query\n",
        "res = requests.get(f\"{API_URL}/v1/indices/topix{query}\", headers=headers)\n",
        "if res.status_code == 200:\n",
        "  data = res.json()[\"topix\"]\n",
        "  df = pd.DataFrame(data)\n",
        "  display(df)\n",
        "else:\n",
        "  print(res.json())\n",
        "\n"
      ]
    },
    {
      "cell_type": "markdown",
      "metadata": {
        "id": "cYPQBHkinwgd"
      },
      "source": [
        "### Standard以上のプランで利用できるAPI\n",
        "- オプション四本値（/option/index_option）\n",
        "- 信用取引週末残高（/markets/weekly_margin_interest）\n",
        "- 業種別空売り比率（/markets/short_selling）"
      ]
    },
    {
      "cell_type": "code",
      "execution_count": null,
      "metadata": {
        "cellView": "form",
        "id": "staIb4Xtr1it"
      },
      "outputs": [],
      "source": [
        "#@title オプション四本値（/option/index_option）\n",
        "\n",
        "#@markdown - 日次の日経225指数オプションの四本値や売買高、清算値段等について取得することができます。\n",
        "#@markdown - 日付（date）の指定が必須です\n",
        "\n",
        "#@markdown （データ更新時刻）\n",
        "#@markdown - 毎営業日の27:00頃\n",
        "\n",
        "\n",
        "date = \"\" #@param {type:\"string\"}\n",
        "query = \"\"\n",
        "if date != \"\":\n",
        "  if query !=\"\":\n",
        "    query += \"&\"\n",
        "  query += f'date={date}'\n",
        "\n",
        "if query != \"\":\n",
        "  query = \"?\"+query\n",
        "res = requests.get(f\"{API_URL}/v1/option/index_option{query}\", headers=headers)\n",
        "\n",
        "if res.status_code == 200:\n",
        "  data = res.json()[\"index_option\"]\n",
        "  df = pd.DataFrame(data)\n",
        "  display(df)\n",
        "else:\n",
        "  print(res.json())"
      ]
    },
    {
      "cell_type": "code",
      "execution_count": null,
      "metadata": {
        "cellView": "form",
        "id": "sw-pwwYeP-ku"
      },
      "outputs": [],
      "source": [
        "#@title 信用取引週末残高（/markets/weekly_margin_interest）\n",
        "\n",
        "#@markdown - 制度・一般信用取引における各銘柄の前週末の残高についてデータを取得することができます。\n",
        "#@markdown - 本データは[こちら](https://www.jpx.co.jp/markets/statistics-equities/margin/index.html)の個別銘柄信用取引残高表のデータをヒストリカルで提供するものになります。\n",
        "#@markdown - 銘柄コード（code）もしくは日付（date）の指定が必須です。<br>\n",
        "#@markdown （From, Toはcodeを入れている場合にのみ可能）\n",
        "\n",
        "#@markdown （データ更新時刻）\n",
        "#@markdown - 原則毎週第２営業日の21:00頃\n",
        "\n",
        "code = \"\"#@param {type:\"string\"}\n",
        "date = \"\"#@param {type:\"string\"}\n",
        "from_ = \"\" #@param {type:\"string\"}\n",
        "to = \"\" #@param {type:\"string\"}\n",
        "l_query = [\n",
        "    f'code={code}' if code else \"\",\n",
        "    f'date={date}' if date else \"\",\n",
        "    f'from={from_}' if from_ else \"\",\n",
        "    f'to={to}' if to else \"\",\n",
        "]\n",
        "query = '&'.join(filter(None, l_query))\n",
        "query = \"?\"+query if query else \"\"\n",
        "\n",
        "res = requests.get(f\"{API_URL}/v1/markets/weekly_margin_interest{query}\", headers=headers)\n",
        "\n",
        "if res.status_code == 200:\n",
        "  data = res.json()[\"weekly_margin_interest\"]\n",
        "  df = pd.DataFrame(data)\n",
        "  display(df)\n",
        "else:\n",
        "  print(res.json())"
      ]
    },
    {
      "cell_type": "code",
      "execution_count": null,
      "metadata": {
        "cellView": "form",
        "id": "DvqQfkf2r-U1"
      },
      "outputs": [],
      "source": [
        "#@title 業種別空売り比率（/markets/short_selling）\n",
        "\n",
        "#@markdown - 日次の３３業種別の空売りの売買代金について取得することができます。\n",
        "#@markdown - ３３業種コード（sector33code）もしくは日付（date）の指定が必須です。<br>\n",
        "#@markdown （From, Toは33SectorCodeを入れている場合にのみ可能）\n",
        "\n",
        "#@markdown （データ更新時刻）\n",
        "#@markdown - 毎営業日の17:00頃\n",
        "\n",
        "#@markdown （その他留意点）\n",
        "#@markdown - 業種コード9999は、ETFやREIT等の３３業種に含まれない銘柄のものになります。\n",
        "\n",
        "\n",
        "sector33code = \"\"#@param {type:\"string\"}\n",
        "date = \"\"#@param {type:\"string\"}\n",
        "from_ = \"\" #@param {type:\"string\"}\n",
        "to = \"\" #@param {type:\"string\"}\n",
        "query = \"\"\n",
        "l_query = [\n",
        "    f'sector33code={sector33code}' if sector33code else \"\",\n",
        "    f'date={date}' if date else \"\",\n",
        "    f'from={from_}' if from_ else \"\",\n",
        "    f'to={to}' if to else \"\",\n",
        "]\n",
        "query = '&'.join(filter(None, l_query))\n",
        "query = \"?\"+query if query else \"\"\n",
        "res = requests.get(f\"{API_URL}/v1/markets/short_selling{query}\", headers=headers)\n",
        "\n",
        "if res.status_code == 200:\n",
        "  data = res.json()[\"short_selling\"]\n",
        "  df = pd.DataFrame(data)\n",
        "  display(df)\n",
        "else:\n",
        "  print(res.json())"
      ]
    },
    {
      "cell_type": "markdown",
      "metadata": {
        "id": "xB_u78xdqdem"
      },
      "source": [
        "### Premiumプランで利用できるAPI\n",
        "- 売買内訳データ（/markets/breakdown）\n",
        "- 前場四本値（/prices/AM）\n",
        "- 配当金情報（/fins/dividend）\n",
        "- 財務諸表(BS/PL)（/fins/fs_details）"
      ]
    },
    {
      "cell_type": "code",
      "execution_count": null,
      "metadata": {
        "cellView": "form",
        "id": "KGQ-b4tEsPSs"
      },
      "outputs": [],
      "source": [
        "#@title 売買内訳データ（/markets/breakdown）\n",
        "\n",
        "#@markdown - 売買内訳データは、東証上場銘柄の東証市場における銘柄別の日次売買代金・売買高(立会内取引に限る)について、信用取引や空売りの利用に関して、発注時のフラグ情報を用いて細分化したデータです。\n",
        "#@markdown - 銘柄コード（code）もしくは日付（date）の指定が必須です。<br>\n",
        "#@markdown （From, Toはcodeを入れている場合にのみ可能）\n",
        "\n",
        "#@markdown （データ更新時刻）\n",
        "#@markdown - 毎営業日の21:00頃\n",
        "\n",
        "#@markdown （その他留意点）\n",
        "#@markdown - 当日に立会内取引が成立しなかった場合（約定なし）、当該銘柄はレコードに含まれていません。\n",
        "\n",
        "code = \"\"#@param {type:\"string\"}\n",
        "date = \"\"#@param {type:\"string\"}\n",
        "from_ = \"\" #@param {type:\"string\"}\n",
        "to = \"\" #@param {type:\"string\"}\n",
        "l_query = [\n",
        "    f'code={code}' if code else \"\",\n",
        "    f'date={date}' if date else \"\",\n",
        "    f'from={from_}' if from_ else \"\",\n",
        "    f'to={to}' if to else \"\",\n",
        "]\n",
        "query = '&'.join(filter(None, l_query))\n",
        "query = \"?\"+query if query else \"\"\n",
        "\n",
        "res = requests.get(f\"{API_URL}/v1/markets/breakdown{query}\", headers=headers)\n",
        "\n",
        "if res.status_code == 200:\n",
        "  data = res.json()[\"breakdown\"]\n",
        "  df = pd.DataFrame(data)\n",
        "  display(df)\n",
        "else:\n",
        "  print(res.json())"
      ]
    },
    {
      "cell_type": "code",
      "execution_count": null,
      "metadata": {
        "cellView": "form",
        "id": "URmkw7_gsTyl"
      },
      "outputs": [],
      "source": [
        "#@title 前場四本値*（/prices/AM）\n",
        "\n",
        "#@markdown - 各銘柄の前場の四本値及び取引高・代金について、当日の前場終了後のデータを取得できます。\n",
        "#@markdown - 銘柄コード（code）を指定することができます。codeパラメータがない場合は、全銘柄取得されます。\n",
        "\n",
        "#@markdown （データ更新時刻）\n",
        "#@markdown - 毎営業日の12:00頃\n",
        "\n",
        "#@markdown （その他留意点）\n",
        "#@markdown - 本APIのデータは当日12:00頃〜翌日の朝6:00頃まで取得可能です。\n",
        "#@markdown - 当日以外のヒストリカルのデータは、Premiumユーザの方は株価四本値（/prices/daily_quotes）のAPIで取得可能です。\n",
        "#@markdown - なお、上記以外の時間にAPIコールした場合は、StatusCode = 210が返却されます。（通常は200）\n",
        "\n",
        "code = \"\"#@param {type:\"string\"}\n",
        "l_query = [\n",
        "    f'code={code}' if code else \"\",\n",
        "]\n",
        "query = '&'.join(filter(None, l_query))\n",
        "query = \"?\"+query if query else \"\"\n",
        "\n",
        "res = requests.get(f\"{API_URL}/v1/prices/prices_am{query}\", headers=headers)\n",
        "\n",
        "if res.status_code == 200:\n",
        "  data = res.json()[\"prices_am\"]\n",
        "  df = pd.DataFrame(data)\n",
        "  display(df)\n",
        "else:\n",
        "  print(res.json())"
      ]
    },
    {
      "cell_type": "code",
      "execution_count": null,
      "metadata": {
        "cellView": "form",
        "id": "vlAiQQhvRETA"
      },
      "outputs": [],
      "source": [
        "#@title 配当金情報（/fins/dividend）\n",
        "\n",
        "#@markdown - 上場会社の配当（決定・予想）に関する１株当たり配当金額、基準日、権利落日及び支払開始予定日等の情報が取得できます。\n",
        "#@markdown - 銘柄コード（code）もしくは日付（date）の指定が必須です。<br>\n",
        "#@markdown （From, Toはcodeを入れている場合にのみ可能）\n",
        "\n",
        "#@markdown （データ更新時刻）\n",
        "#@markdown - 毎営業日の21:00頃\n",
        "\n",
        "\n",
        "code = \"\"#@param {type:\"string\"}\n",
        "date = \"\"#@param {type:\"string\"}\n",
        "from_ = \"\" #@param {type:\"string\"}\n",
        "to = \"\" #@param {type:\"string\"}\n",
        "l_query = [\n",
        "    f'code={code}' if code else \"\",\n",
        "    f'date={date}' if date else \"\",\n",
        "    f'from={from_}' if from_ else \"\",\n",
        "    f'to={to}' if to else \"\",\n",
        "]\n",
        "query = '&'.join(filter(None, l_query))\n",
        "query = \"?\"+query if query else \"\"\n",
        "\n",
        "res = requests.get(f\"{API_URL}/v1/fins/dividend{query}\", headers=headers)\n",
        "\n",
        "if res.status_code == 200:\n",
        "  data = res.json()[\"dividend\"]\n",
        "  df = pd.DataFrame(data)\n",
        "  display(df)\n",
        "else:\n",
        "  print(res.json())"
      ]
    },
    {
      "cell_type": "code",
      "execution_count": null,
      "metadata": {
        "cellView": "form"
      },
      "outputs": [],
      "source": [
        "#@title 財務諸表(BS/PL)（/fins/fs_details）\n",
        "\n",
        "#@markdown - 財務諸表(BS/PL)APIでは、上場企業の四半期毎の財務情報における、貸借対照表、損益計算書に記載の項目を取得することができます。\n",
        "#@markdown - 本コードでは、出力結果の表示方法をformat_typeを指定して切り替え可能です。flat:全項目をヘッダーに表示する、non-flat:詳細項目を1列に集約します。\n",
        "#@markdown - データの取得では、銘柄コード（code）または開示日（date）の指定が必須です。\n",
        "\n",
        "#@markdown （データ更新時刻）\n",
        "#@markdown - 速報18:00頃、確報24:30頃\n",
        "\n",
        "\n",
        "format_type = \"non-flat\"#@param [\"non-flat\", \"flat\"]\n",
        "\n",
        "code = \"\"#@param {type:\"string\"}\n",
        "date = \"\"#@param {type:\"string\"}\n",
        "l_query = [\n",
        "    f'code={code}' if code else \"\",\n",
        "    f'date={date}' if date else \"\",\n",
        "]\n",
        "query = '&'.join(filter(None, l_query))\n",
        "query = \"?\"+query if query else \"\"\n",
        "\n",
        "res = requests.get(f\"{API_URL}/v1/fins/fs_details{query}\", headers=headers)\n",
        "\n",
        "if res.status_code == 200:\n",
        "  if format_type == \"non-flat\":\n",
        "    data = res.json()[\"fs_details\"]\n",
        "    df = pd.DataFrame(data)\n",
        "    display(df)\n",
        "  else:\n",
        "    df = pd.json_normalize(data=res.json(), record_path='fs_details')\n",
        "    display(df)\n",
        "else:\n",
        "  print(res.json())"
      ]
    }
  ],
  "metadata": {
    "colab": {
      "provenance": []
    },
    "kernelspec": {
      "display_name": "Python 3",
      "name": "python3"
    },
    "language_info": {
      "name": "python"
    }
  },
  "nbformat": 4,
  "nbformat_minor": 0
}
